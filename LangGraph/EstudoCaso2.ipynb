{
 "cells": [
  {
   "cell_type": "markdown",
   "id": "9225709c-69d1-4fd5-b849-4d81e1a11daf",
   "metadata": {},
   "source": [
    "<!-- Projeto Desenvolvido na Data Science Academy - www.datascienceacademy.com.br -->\n",
    "# <font color='blue'>Data Science Academy</font>\n",
    "## <font color='blue'>Construção e Deploy de Agentes de IA</font>\n",
    "## <font color='blue'>Estudo de Caso 2</font>\n",
    "### <font color='blue'>LangGraph Para Construção de Agentes de IA - Ferramentas, Memória, Estado, Workflow e Human-in-the-Loop</font>"
   ]
  },
  {
   "cell_type": "code",
   "execution_count": 1,
   "id": "d92f14b6-695c-4035-8bd3-0b30f72ad52a",
   "metadata": {},
   "outputs": [],
   "source": [
    "# Imports\n",
    "import json\n",
    "import typing\n",
    "import ollama\n",
    "from langchain_core.tools import tool\n",
    "from langchain_community.tools import DuckDuckGoSearchRun\n",
    "from langchain_core.runnables.graph import MermaidDrawMethod\n",
    "from langchain_community.tools import WikipediaQueryRun\n",
    "from langchain_community.utilities import WikipediaAPIWrapper\n",
    "from langgraph.graph import StateGraph, END\n",
    "from pydantic import BaseModel \n",
    "from pprint import pprint\n",
    "from IPython.display import Image, display"
   ]
  },
  {
   "cell_type": "markdown",
   "id": "794a20e0-d85a-477a-8bd0-67a24846470a",
   "metadata": {},
   "source": [
    "## Definindo o LLM Open-Source com Ollama"
   ]
  },
  {
   "cell_type": "code",
   "execution_count": 2,
   "id": "5dc21771-c7a3-47ca-b30f-d16c60a38125",
   "metadata": {},
   "outputs": [],
   "source": [
    "# Nome do LLM\n",
    "llm_opensource = \"llama3.2\""
   ]
  },
  {
   "cell_type": "code",
   "execution_count": 3,
   "id": "f510f2cd-b8f7-4ab9-aa35-05d79c748cae",
   "metadata": {},
   "outputs": [],
   "source": [
    "# Questão para o LLM\n",
    "q = '''Quem foi eleito Presidente dos EUA em 2024?'''"
   ]
  },
  {
   "cell_type": "code",
   "execution_count": 4,
   "id": "1161ecd7-1c2c-4ccf-8b96-ce27a9d2260d",
   "metadata": {},
   "outputs": [],
   "source": [
    "# Envia a pergunta ao LLM\n",
    "resultado = ollama.chat(model = llm_opensource, \n",
    "                        messages = [{\"role\":\"system\", \"content\":\"\"},\n",
    "                                    {\"role\":\"user\", \"content\":q}])"
   ]
  },
  {
   "cell_type": "code",
   "execution_count": 5,
   "id": "c1efc3d8-0af0-4e7d-bb5f-319102b5ea84",
   "metadata": {},
   "outputs": [
    {
     "name": "stdout",
     "output_type": "stream",
     "text": [
      "model='llama3.1' created_at='2025-03-01T01:25:58.355834Z' done=True done_reason='stop' total_duration=2519498041 load_duration=559289208 prompt_eval_count=25 prompt_eval_duration=1442000000 eval_count=21 eval_duration=276000000 message=Message(role='assistant', content='Não tenho acesso a informações atuais ou futuras, incluindo resultados de eleições.', images=None, tool_calls=None)\n"
     ]
    }
   ],
   "source": [
    "print(resultado)"
   ]
  },
  {
   "cell_type": "markdown",
   "id": "7e7a34e0-328b-422f-9c8c-0488fe65938c",
   "metadata": {},
   "source": [
    "## Definindo as Ferramentas\n",
    "\n",
    "No contexto do LangGraph, ferramentas são funções externas que os nós do grafo podem chamar para executar tarefas específicas, como fazer buscas na web, interagir com APIs ou manipular dados. Elas permitem que o fluxo de conversação do LangGraph acesse funcionalidades externas, tornando os agentes mais dinâmicos e capazes de lidar com diferentes tipos de solicitações."
   ]
  },
  {
   "cell_type": "code",
   "execution_count": 6,
   "id": "0c4a0192-04e8-4d86-8960-aca1e97db50d",
   "metadata": {},
   "outputs": [],
   "source": [
    "@tool(\"dsa_tool_busca\")\n",
    "def dsa_tool_busca(q:str) -> str:\n",
    "    \"\"\"Pesquise no navegador DuckDuckGo passando a entrada `q`\"\"\"\n",
    "    return DuckDuckGoSearchRun().run(q)"
   ]
  },
  {
   "cell_type": "code",
   "execution_count": 7,
   "id": "6649af30-2d74-4a53-9900-5d001f9eb8ed",
   "metadata": {},
   "outputs": [
    {
     "name": "stdout",
     "output_type": "stream",
     "text": [
      "Eleitores dos EUA foram às urnas na terça-feira (5/11) e elegeram Donald Trump como o novo presidente e sucessor do democrata Joe Biden no comando da Casa Branca (acompanhe ao vivo as notícias ... Foi lá que o ex-presidente nasceu, em 1946, e viveu durante a infância e a adolescência. Trump filho queria construir prédios altos em Manhattan e hotéis, campos de golfe e cassinos fora dos EUA. Trump é eleito presidente dos EUA: veja que Estados votaram no republicano ou em Kamala Harris 5 novembro 2024 O candidato republicano Donald Trump venceu a eleição para presidente dos Estados ... Resultado da eleição dos EUA: veja votos por estado e quem está na frente ... que foi presidente de 2017 a 2020. ... um candidato precisa obter ao menos 270 dos 538 votos do Colégio Eleitoral ... GERADO EM: 06/11/2024 - 07:12 . ... Quem está na frente nas eleições dos Estados Unidos? ... O discurso de Trump: veja o que disse o presidente eleito dos EUA.\n"
     ]
    }
   ],
   "source": [
    "# Testando\n",
    "print(dsa_tool_busca.invoke(q))"
   ]
  },
  {
   "cell_type": "code",
   "execution_count": 8,
   "id": "57e922d6-5e58-4bca-bbc9-3926cdade986",
   "metadata": {},
   "outputs": [],
   "source": [
    "@tool(\"dsa_tool_resposta_final\")\n",
    "def dsa_tool_resposta_final(text:str) -> str:\n",
    "    \"\"\"Retorne uma resposta em linguagem natural ao usuário passando o `texto de entrada`. \n",
    "    Você deve fornecer o máximo de contexto possível e especificar a fonte da informação.\n",
    "    \"\"\"\n",
    "    return text"
   ]
  },
  {
   "cell_type": "code",
   "execution_count": 9,
   "id": "3863e449-0943-4af0-81d0-2ca0e0ebbb7b",
   "metadata": {},
   "outputs": [
    {
     "name": "stdout",
     "output_type": "stream",
     "text": [
      "Teste\n"
     ]
    }
   ],
   "source": [
    "# Testando\n",
    "print( dsa_tool_resposta_final.invoke(\"Teste\") )"
   ]
  },
  {
   "cell_type": "code",
   "execution_count": 10,
   "id": "b3358b5d-e857-4ea8-95f9-61a33dadf255",
   "metadata": {},
   "outputs": [],
   "source": [
    "# Dicionário de ferramentas\n",
    "dic_tools = {\"dsa_tool_busca\":dsa_tool_busca, \n",
    "             \"dsa_tool_resposta_final\":dsa_tool_resposta_final}"
   ]
  },
  {
   "cell_type": "markdown",
   "id": "98cc527b-3031-434c-967a-83a743d4fde5",
   "metadata": {},
   "source": [
    "## Adicionando as Ferramentas Para o Processo de Tomada de Decisão do Agente"
   ]
  },
  {
   "cell_type": "code",
   "execution_count": 11,
   "id": "e5f78f7b-6922-43b4-ad0e-08b56fe737a2",
   "metadata": {},
   "outputs": [],
   "source": [
    "# Cria o prompt\n",
    "prompt = \"\"\"\n",
    "Você é especialista em notícias, você deve responder a todas as perguntas do usuário, você pode usar a lista de ferramentas fornecidas a você.\n",
    "Seu objetivo é fornecer ao usuário a melhor resposta possível, incluindo informações importantes sobre as fontes e ferramentas usadas.\n",
    "\n",
    "Observe que, ao usar uma ferramenta, você fornece o nome da ferramenta e os argumentos a serem usados no formato JSON.\n",
    "Para cada chamada, você DEVE usar APENAS uma ferramenta e o formato de resposta DEVE SEMPRE seguir o padrão:\n",
    "```json\n",
    "{\"name\":\"<tool_name>\", \"parameters\": {\"<tool_input_key>\":<tool_input_value>}}\n",
    "```\n",
    "Lembre-se, NÃO use nenhuma ferramenta com a mesma consulta mais de uma vez.\n",
    "Lembre-se, se o usuário não fizer uma pergunta específica, você DEVE usar a ferramenta `dsa_tool_resposta_final` diretamente.\n",
    "\n",
    "Toda vez que o usuário faz uma pergunta, você anota na memória.\n",
    "Toda vez que você encontra alguma informação relacionada à pergunta do usuário, você anota na memória.\n",
    "\n",
    "Você deve tentar coletar informações de diversas fontes antes de fornecer a resposta ao usuário.\n",
    "Depois de coletar informações suficientes para responder à pergunta do usuário, use a ferramenta `dsa_tool_resposta_final`.\n",
    "\"\"\""
   ]
  },
  {
   "cell_type": "code",
   "execution_count": 12,
   "id": "4f4906fc-7db0-4ff7-8d2b-569364034dae",
   "metadata": {},
   "outputs": [],
   "source": [
    "# Define a string com as ferramentas\n",
    "str_tools = \"\\n\".join([str(n+1)+\". `\"+str(v.name)+\"`: \"+str(v.description) for n,v in enumerate(dic_tools.values())])"
   ]
  },
  {
   "cell_type": "code",
   "execution_count": 13,
   "id": "444436ad-8052-4e9f-8fa1-59defaca070f",
   "metadata": {},
   "outputs": [
    {
     "name": "stdout",
     "output_type": "stream",
     "text": [
      "1. `dsa_tool_busca`: Pesquise no navegador DuckDuckGo passando a entrada `q`\n",
      "2. `dsa_tool_resposta_final`: Retorne uma resposta em linguagem natural ao usuário passando o `texto de entrada`. \n",
      "    Você deve fornecer o máximo de contexto possível e especificar a fonte da informação.\n"
     ]
    }
   ],
   "source": [
    "print(str_tools)"
   ]
  },
  {
   "cell_type": "code",
   "execution_count": 14,
   "id": "de462a66-4a23-48f8-98b5-098a595c7ed0",
   "metadata": {},
   "outputs": [
    {
     "name": "stdout",
     "output_type": "stream",
     "text": [
      "Você pode usar as seguintes ferramentas:\n",
      "1. `dsa_tool_busca`: Pesquise no navegador DuckDuckGo passando a entrada `q`\n",
      "2. `dsa_tool_resposta_final`: Retorne uma resposta em linguagem natural ao usuário passando o `texto de entrada`. \n",
      "    Você deve fornecer o máximo de contexto possível e especificar a fonte da informação.\n"
     ]
    }
   ],
   "source": [
    "# Cria o prompt de ferramentas\n",
    "prompt_tools = f\"Você pode usar as seguintes ferramentas:\\n{str_tools}\"\n",
    "print(prompt_tools)"
   ]
  },
  {
   "cell_type": "code",
   "execution_count": 15,
   "id": "9652c5ce-82d4-4605-9e17-a87f61a0136e",
   "metadata": {},
   "outputs": [],
   "source": [
    "# Adicionando ferramentas ao LLM\n",
    "dsa_resposta_llm = ollama.chat(model = llm_opensource,\n",
    "                               messages = [{\"role\":\"system\", \"content\":prompt+\"\\n\"+prompt_tools},\n",
    "                                           {\"role\":\"user\", \"content\":q}\n",
    "                                        ], \n",
    "                               format = \"json\")"
   ]
  },
  {
   "cell_type": "code",
   "execution_count": 16,
   "id": "5e033b46-20b7-4fe7-95e9-6ee54f0add60",
   "metadata": {},
   "outputs": [
    {
     "data": {
      "text/plain": [
       "'{\"name\":\"dsa_tool_busca\", \"parameters\":{\"q\":\"eleição presidencial nos EUA 2024\"}}'"
      ]
     },
     "execution_count": 16,
     "metadata": {},
     "output_type": "execute_result"
    }
   ],
   "source": [
    "dsa_resposta_llm[\"message\"][\"content\"]"
   ]
  },
  {
   "cell_type": "code",
   "execution_count": 17,
   "id": "cf564557-843f-47f3-b8fc-57790f4b16cb",
   "metadata": {},
   "outputs": [
    {
     "name": "stdout",
     "output_type": "stream",
     "text": [
      "Chaves em 'parameters': dict_keys(['q'])\n",
      "Valor de tool_input: eleição presidencial nos EUA 2024\n"
     ]
    }
   ],
   "source": [
    "# Extrai o conteúdo da resposta do LLM\n",
    "content = dsa_resposta_llm[\"message\"][\"content\"]\n",
    "data = json.loads(content)\n",
    "\n",
    "# Verifica as chaves presentes em 'parameters'\n",
    "parameters = data.get(\"parameters\", {})\n",
    "print(\"Chaves em 'parameters':\", parameters.keys())\n",
    "\n",
    "# Tente obter o valor de 'q' ou 'texto de entrada'\n",
    "tool_input = parameters.get('q') or parameters.get('texto de entrada')\n",
    "if tool_input is None:\n",
    "    raise KeyError(\"Nenhuma das chaves 'q' ou 'texto de entrada' foi encontrada em 'parameters'.\")\n",
    "\n",
    "print(\"Valor de tool_input:\", tool_input)"
   ]
  },
  {
   "cell_type": "code",
   "execution_count": 18,
   "id": "20ea7c12-25b9-4463-aa45-53bbaa2e8c23",
   "metadata": {},
   "outputs": [
    {
     "name": "stdout",
     "output_type": "stream",
     "text": [
      "Contexto:\n",
      " Trump vence eleições nos EUA: confira resultados em tempo real em mapas interativos ... Resultados nacionais das eleições presidenciais ... todos os 435 assentos estão em disputa na eleição ... Inicialmente, a eleição era uma revanche de 2020, ... 3 de 3 Linhas médias de pesquisas de intenção de voto para as Eleições Presidenciais nos EUA de 2024 — Foto: BBC . View live election results from the 2024 presidential race as Kamala Harris and Donald Trump face off. See the map of votes by state as results are tallied. Se um empate no Colégio Eleitoral forçar uma eleição contingente, cada estado recebe um voto, e uma maioria simples de 26 votos elegeria o novo presidente. Os republicanos atualmente têm a maioria nas delegações da Câmara dos EUA de 26 estados, e essa vantagem pode aumentar, de acordo com as projeções para as eleições dos deputados ... Veja quais são as principais datas das eleições nos Estados Unidos em 2024 . Durante todo o ano, EUA realizaram votações primárias e convenções; houve também debates presidenciais ... da democrata Kamala Harris e do republicano Donald Trump trabalham a todo vapor na reta final da campanha para a eleição presidencial nos Estados ...\n"
     ]
    }
   ],
   "source": [
    "# Testa a ferramenta com o contexto\n",
    "context = dsa_tool_busca.invoke(tool_input)\n",
    "print(\"Contexto:\\n\", context)"
   ]
  },
  {
   "cell_type": "markdown",
   "id": "f3f412fb-c78d-4f68-a677-a0bd63f925b8",
   "metadata": {},
   "source": [
    "## Criando a Estrutura do Agente\n",
    "<!-- Projeto Desenvolvido na Data Science Academy - www.datascienceacademy.com.br -->\n",
    "No LangGraph, um agente pode ser implementado como uma classe. Isso é útil para encapsular a lógica do agente, incluindo a definição de nós, transições e o uso de memória e ferramentas.\n",
    "\n",
    "Ao definir um agente como uma classe, você pode:\n",
    "\n",
    "- Estruturar melhor o código, separando a lógica da execução do grafo.\n",
    "- Armazenar estados internos e configurar o fluxo de decisão de maneira mais organizada.\n",
    "- Facilitar a reutilização e escalabilidade do agente."
   ]
  },
  {
   "cell_type": "code",
   "execution_count": 19,
   "id": "78c80043-f634-45d7-ab8a-16baf0f8f559",
   "metadata": {},
   "outputs": [],
   "source": [
    "# Classe do Agente\n",
    "class DSAAgent(BaseModel):\n",
    "    \n",
    "    # Nome da ferramenta usada pelo agente\n",
    "    tool_name: str  \n",
    "    \n",
    "    # Entrada fornecida para a ferramenta (parâmetros)\n",
    "    tool_input: dict  \n",
    "    \n",
    "    # Resultado retornado pela ferramenta, opcionalmente pode ser None\n",
    "    tool_output: str | None = None  \n",
    "    \n",
    "    # Método de classe para criar instância a partir da resposta do modelo (LLM)\n",
    "    @classmethod\n",
    "    def from_llm(cls, res: dict):  \n",
    "        try:\n",
    "            # Decodifica o conteúdo JSON da resposta do LLM\n",
    "            out = json.loads(res[\"message\"][\"content\"])\n",
    "            # Retorna uma nova instância da classe com os dados extraídos\n",
    "            return cls(tool_name=out[\"name\"], tool_input=out[\"parameters\"])\n",
    "        except Exception as e:\n",
    "            # Imprime erro caso ocorra falha no processamento\n",
    "            print(f\"Erro do Ollama:\\n{res}\\n\")\n",
    "            raise e"
   ]
  },
  {
   "cell_type": "code",
   "execution_count": 20,
   "id": "00f4b21c-a1ad-4087-94c9-92a6401ecc22",
   "metadata": {},
   "outputs": [
    {
     "name": "stdout",
     "output_type": "stream",
     "text": [
      "Formato Inicial:\n",
      " {\"name\":\"dsa_tool_busca\", \"parameters\":{\"q\":\"eleição presidencial nos EUA 2024\"}} \n",
      "Formato do Agente:\n"
     ]
    },
    {
     "data": {
      "text/plain": [
       "DSAAgent(tool_name='dsa_tool_busca', tool_input={'q': 'eleição presidencial nos EUA 2024'}, tool_output=None)"
      ]
     },
     "execution_count": 20,
     "metadata": {},
     "output_type": "execute_result"
    }
   ],
   "source": [
    "# Testando o Agente\n",
    "agente_dsa = DSAAgent.from_llm(dsa_resposta_llm)\n",
    "print(\"Formato Inicial:\\n\", dsa_resposta_llm[\"message\"][\"content\"], \"\\nFormato do Agente:\")\n",
    "agente_dsa"
   ]
  },
  {
   "cell_type": "code",
   "execution_count": 21,
   "id": "a508ff15-ca83-4c8a-8312-5a43fa26d9ef",
   "metadata": {},
   "outputs": [
    {
     "data": {
      "text/plain": [
       "DSAAgent(tool_name='dsa_tool_busca', tool_input={'q': 'Quem foi eleito Presidente nos EUA em 2024?'}, tool_output='Trump vence eleições nos EUA: confira resultados em tempo real em mapas interativos ... Resultados nacionais das eleições presidenciais ... todos os 435 assentos estão em disputa na eleição ... View live election results from the 2024 presidential race as Kamala Harris and Donald Trump face off. See the map of votes by state as results are tallied. Eleições nos EUA 2024. ... Faltando menos de 10 dias para as eleições presidenciais nos Estados ... Para vencer a eleição nos Estados Unidos é necessário conquistar 270 dos 538 delegados ... A 5 dias da eleição presidencial nos EUA, o que dizem as pesquisas? Levantamento mostra Kamala Harris com vantagem mínima sobre Donald Trump na Carolina do Norte, tradicionalmente republicana . Jorge Fernando Rodrigues Danilo Cruz. 01/11/2024 às 00:48 | Atualizado 01/11/2024 às 13:33 Por que apuração dos votos da eleição dos EUA tem tudo para dar problema 5 novembro 2024 Quando foram anunciados os resultados das eleições presidenciais anteriores? A eleição de 2020 ...')"
      ]
     },
     "execution_count": 21,
     "metadata": {},
     "output_type": "execute_result"
    }
   ],
   "source": [
    "# Testando a ferramenta\n",
    "DSAAgent(tool_name = \"dsa_tool_busca\", \n",
    "         tool_input = {'q':'Quem foi eleito Presidente nos EUA em 2024?'}, \n",
    "         tool_output = str( dsa_tool_busca.invoke(tool_input)) )"
   ]
  },
  {
   "cell_type": "markdown",
   "id": "a93923d5-1bfe-4553-9125-2b2a368c3f2d",
   "metadata": {},
   "source": [
    "## Configurando a Memória do Sistema\n",
    "<!-- Projeto Desenvolvido na Data Science Academy - www.datascienceacademy.com.br -->\n",
    "No LangGraph, a memória refere-se à capacidade de armazenar e recuperar informações ao longo da execução do fluxo de conversação. Isso permite que o agente mantenha contexto entre interações, lembre-se de dados do usuário e ajuste suas respostas com base em interações anteriores. A memória pode ser implementada de diferentes formas, como armazenando variáveis no estado do grafo ou integrando soluções externas de armazenamento."
   ]
  },
  {
   "cell_type": "code",
   "execution_count": 22,
   "id": "fbbf0675-5774-4096-864e-2b638ebe835e",
   "metadata": {},
   "outputs": [],
   "source": [
    "# Função para gerar memória contextual do Agente\n",
    "def dsa_memoria_agente(lst_res: list[DSAAgent], user_q: str) -> list:\n",
    "\n",
    "    # Inicializa a memória vazia\n",
    "    memory = []\n",
    "    \n",
    "    # Itera sobre respostas anteriores que possuem uma saída válida\n",
    "    for res in [res for res in lst_res if res.tool_output is not None]:\n",
    "        \n",
    "        # Adiciona à memória a interação da ferramenta usada pelo assistente\n",
    "        memory.extend([\n",
    "            {\"role\": \"assistant\", \"content\": json.dumps({\"name\": res.tool_name, \"parameters\": res.tool_input})},\n",
    "            {\"role\": \"user\", \"content\": res.tool_output}\n",
    "        ])\n",
    "    \n",
    "    # Se a memória não estiver vazia, adiciona um lembrete da pergunta original\n",
    "    if memory:\n",
    "        memory += [{\"role\": \"user\", \"content\": (f'''\n",
    "                Este é apenas um lembrete de que minha consulta original era `{user_q}`.\n",
    "                Responda apenas à pergunta original e nada mais, mas use as informações que lhe dei.\n",
    "                Forneça o máximo de informações possível ao usar a ferramenta `final_answer`.\n",
    "                ''')}]\n",
    "\n",
    "    # Retorna a memória atualizada\n",
    "    return memory"
   ]
  },
  {
   "cell_type": "code",
   "execution_count": 23,
   "id": "df26434d-137e-4669-94dd-3516921475db",
   "metadata": {},
   "outputs": [],
   "source": [
    "# Cria uma lista de histórico para o chat\n",
    "chat_history = [{\"role\": \"user\", \"content\": \"Olá, tudo bem?\"},\n",
    "                {\"role\": \"assistant\", \"content\": \"Estou bem, obrigado!\"},\n",
    "                {\"role\": \"user\", \"content\": \"Eu tenho uma pergunta\"},\n",
    "                {\"role\": \"assistant\", \"content\": \"Sim, o que você gostaria de saber?\"}]"
   ]
  },
  {
   "cell_type": "markdown",
   "id": "04436516-64cc-4017-8123-e10b9894a47a",
   "metadata": {},
   "source": [
    "## Configurando a Execução do Agente"
   ]
  },
  {
   "cell_type": "code",
   "execution_count": 24,
   "id": "8a8ab4a5-a97b-4e33-bda9-d7b4d5bec12b",
   "metadata": {},
   "outputs": [],
   "source": [
    "# Função que executa o agente com base no prompt e nas ferramentas disponíveis\n",
    "def dsa_executa_agente(prompt: str, \n",
    "                       dic_tools: dict, \n",
    "                       user_q: str, \n",
    "                       chat_history: list[dict], \n",
    "                       lst_res: list[DSAAgent]) -> DSAAgent:\n",
    "    \n",
    "    # Inicializa a memória com as respostas anteriores do agente\n",
    "    memory = dsa_memoria_agente(lst_res = lst_res, user_q = user_q)\n",
    "    \n",
    "    # Verifica se todas as ferramentas já foram utilizadas, forçando o uso da resposta final\n",
    "    if memory:\n",
    "        tools_used = [res.tool_name for res in lst_res]\n",
    "        if len(tools_used) >= len(dic_tools.keys()):\n",
    "            memory[-1][\"content\"] = \"Agora você deve usar a ferramenta `dsa_tool_resposta_final`.\"\n",
    "\n",
    "    # Formata a lista de ferramentas disponíveis para o prompt\n",
    "    str_tools = \"\\n\".join([\n",
    "        f\"{n+1}. `{v.name}`: {v.description}\" \n",
    "        for n, v in enumerate(dic_tools.values())\n",
    "    ])\n",
    "    \n",
    "    prompt_tools = f\"Você pode usar as seguintes ferramentas:\\n{str_tools}\"\n",
    "        \n",
    "    # Constrói a lista completa de mensagens (prompt + histórico + memória)\n",
    "    messages = [\n",
    "        {\"role\": \"system\", \"content\": prompt + \"\\n\" + prompt_tools},\n",
    "        *chat_history,\n",
    "        {\"role\": \"user\", \"content\": user_q},\n",
    "        *memory\n",
    "    ]\n",
    "    \n",
    "    # Realiza a chamada ao modelo LLM com o conteúdo gerado\n",
    "    llm_res = ollama.chat(model = llm_opensource, \n",
    "                          messages = messages, \n",
    "                          format = \"json\")\n",
    "    \n",
    "    # Retorna o resultado como uma instância de DSAAgent\n",
    "    return DSAAgent.from_llm(llm_res)"
   ]
  },
  {
   "cell_type": "code",
   "execution_count": 25,
   "id": "14ea77bb-6565-45cc-9cc9-e4f3472e2945",
   "metadata": {},
   "outputs": [
    {
     "name": "stdout",
     "output_type": "stream",
     "text": [
      "Resposta do Agente: tool_name='dsa_tool_busca' tool_input={'q': 'eleição presidencial EUA 2024 resultado'} tool_output=None\n"
     ]
    }
   ],
   "source": [
    "# Testando\n",
    "agent_res = dsa_executa_agente(prompt = prompt, \n",
    "                               dic_tools = dic_tools, \n",
    "                               user_q = q, \n",
    "                               chat_history = chat_history, \n",
    "                               lst_res = [])\n",
    "print(\"Resposta do Agente:\", agent_res)"
   ]
  },
  {
   "cell_type": "markdown",
   "id": "1f1d4952-e8ae-453f-9e87-5f9db2847953",
   "metadata": {},
   "source": [
    "## Criando os Componentes do Graph Workflow\n",
    "\n",
    "O Graph Workflow no LangGraph é a estrutura que define como as interações fluem entre os nós do grafo. Ele representa a lógica do agente como um grafo direcionado, onde cada nó pode executar uma função e cada aresta define possíveis transições para os próximos passos."
   ]
  },
  {
   "cell_type": "markdown",
   "id": "e6c04d61-8cd8-49d0-b142-f65655c16a9e",
   "metadata": {},
   "source": [
    "### Estado\n",
    "\n",
    "No LangGraph, o estado é a estrutura de dados que mantém o contexto ao longo da execução do fluxo. Ele armazena informações relevantes, como entradas do usuário, saídas de funções e variáveis persistentes que influenciam o comportamento do agente."
   ]
  },
  {
   "cell_type": "code",
   "execution_count": 26,
   "id": "8e60f3e8-2e2e-401a-9488-f143e441f9eb",
   "metadata": {},
   "outputs": [],
   "source": [
    "# Classe de Estado\n",
    "class State(typing.TypedDict):\n",
    "\n",
    "    # Pergunta original feita pelo usuário\n",
    "    user_q: str\n",
    "    \n",
    "    # Histórico completo da conversa\n",
    "    chat_history: list \n",
    "    \n",
    "    # Lista de respostas anteriores do agente\n",
    "    lst_res: list[DSAAgent]\n",
    "    \n",
    "    # Resultado final ou saída produzida pelo agente\n",
    "    output: dict"
   ]
  },
  {
   "cell_type": "code",
   "execution_count": 27,
   "id": "08b87e9e-4a8a-4c1d-b829-420151ee9f8a",
   "metadata": {},
   "outputs": [
    {
     "data": {
      "text/plain": [
       "{'user_q': 'Quem foi eleito Presidente dos EUA em 2024?',\n",
       " 'chat_history': [{'role': 'user', 'content': 'Olá, tudo bem?'},\n",
       "  {'role': 'assistant', 'content': 'Estou bem, obrigado!'},\n",
       "  {'role': 'user', 'content': 'Eu tenho uma pergunta'},\n",
       "  {'role': 'assistant', 'content': 'Sim, o que você gostaria de saber?'}],\n",
       " 'lst_res': [DSAAgent(tool_name='dsa_tool_busca', tool_input={'q': 'eleição presidencial EUA 2024 resultado'}, tool_output=None)],\n",
       " 'output': {}}"
      ]
     },
     "execution_count": 27,
     "metadata": {},
     "output_type": "execute_result"
    }
   ],
   "source": [
    "# Testando\n",
    "state = State({\"user_q\":q, \"chat_history\":chat_history, \"lst_res\":[agent_res], \"output\":{}})\n",
    "state"
   ]
  },
  {
   "cell_type": "markdown",
   "id": "83a16a2c-d5cf-4d58-af49-2e4ebc164f9f",
   "metadata": {},
   "source": [
    "### Node (Nó)\n",
    "\n",
    "No LangGraph, um node (nó) é uma unidade de processamento dentro do Graph Workflow. Cada nó executa uma função específica e pode modificar o estado antes de passar a execução para outro nó."
   ]
  },
  {
   "cell_type": "code",
   "execution_count": 28,
   "id": "75789c30-893e-4399-8df7-4e32c5f2d26f",
   "metadata": {},
   "outputs": [],
   "source": [
    "# Criando o Agente Node\n",
    "def dsa_agente_node(state):\n",
    "    \n",
    "    # Indica início da execução do node agente\n",
    "    print(\"--- Agente Node ---\")\n",
    "    \n",
    "    # Executa o agente usando a função dsa_executa_agente com o prompt e ferramentas especificadas\n",
    "    agent_res = dsa_executa_agente(\n",
    "        prompt = prompt, \n",
    "        dic_tools = {k: v for k, v in dic_tools.items() if k in [\"dsa_tool_busca\", \"dsa_tool_resposta_final\"]},\n",
    "        user_q = state[\"user_q\"], \n",
    "        chat_history = state[\"chat_history\"], \n",
    "        lst_res = state[\"lst_res\"]\n",
    "    )\n",
    "    \n",
    "    # Exibe o resultado obtido pelo agente\n",
    "    print(agent_res)\n",
    "    \n",
    "    # Retorna o resultado encapsulado em um dicionário no formato esperado pelo fluxo\n",
    "    return {\"lst_res\": [agent_res]}"
   ]
  },
  {
   "cell_type": "code",
   "execution_count": 29,
   "id": "4b5bd932-c1a1-4d08-91c0-7873dc779b6c",
   "metadata": {},
   "outputs": [
    {
     "name": "stdout",
     "output_type": "stream",
     "text": [
      "--- Agente Node ---\n",
      "tool_name='dsa_tool_busca' tool_input={'q': 'Eleição presidencial nos Estados Unidos em 2024'} tool_output=None\n"
     ]
    },
    {
     "data": {
      "text/plain": [
       "{'lst_res': [DSAAgent(tool_name='dsa_tool_busca', tool_input={'q': 'Eleição presidencial nos Estados Unidos em 2024'}, tool_output=None)]}"
      ]
     },
     "execution_count": 29,
     "metadata": {},
     "output_type": "execute_result"
    }
   ],
   "source": [
    "# Testando\n",
    "dsa_agente_node(state)"
   ]
  },
  {
   "cell_type": "markdown",
   "id": "2bda01ef-06a3-46f9-ae35-43fe3cff2b0b",
   "metadata": {},
   "source": [
    "### Node Especializado\n",
    "\n",
    "O node tool como dsa_agente_node_tool é um nó especializado no LangGraph responsável por processar chamadas de ferramentas (tools) dentro do fluxo do agente. Ele atua como um intermediário que:\n",
    "<!-- Projeto Desenvolvido na Data Science Academy - www.datascienceacademy.com.br -->\n",
    "- Identifica qual ferramenta foi chamada com base no estado (state[\"lst_res\"][-1]).\n",
    "- Extrai e valida os parâmetros necessários para a ferramenta funcionar corretamente.\n",
    "- Invoca a ferramenta correspondente (dic_tools[res.tool_name].invoke(tool_input)).\n",
    "- Retorna a saída de acordo com a ferramenta utilizada."
   ]
  },
  {
   "cell_type": "code",
   "execution_count": 30,
   "id": "aaa4f64f-b877-4ab2-a445-9bc989b0c955",
   "metadata": {},
   "outputs": [],
   "source": [
    "# Função para configurar as ferramentas do node do agente\n",
    "def dsa_agente_node_tool(state):\n",
    "    \n",
    "    # Indica o início da execução da ferramenta do agente\n",
    "    print(\"--- Agente Node Tool ---\")\n",
    "    \n",
    "    # Captura o resultado mais recente do agente\n",
    "    res = state[\"lst_res\"][-1]\n",
    "    \n",
    "    # Exibe a ferramenta utilizada e os parâmetros passados\n",
    "    print(f\"{res.tool_name}(input = {res.tool_input})\")\n",
    "\n",
    "    # Verifica qual ferramenta está sendo utilizada e ajusta os parâmetros adequadamente\n",
    "    if res.tool_name == \"dsa_tool_resposta_final\":\n",
    "        # Lista de possíveis chaves para 'tool_input'\n",
    "        possible_keys = ['text', 'texto de entrada', 'q', 'texto']\n",
    "        tool_input = None\n",
    "        for key in possible_keys:\n",
    "            if key in res.tool_input:\n",
    "                tool_input = res.tool_input[key]\n",
    "                break\n",
    "        \n",
    "        # Validação de existência do parâmetro necessário\n",
    "        if not tool_input:\n",
    "            raise ValueError(f\"Parâmetro necessário não encontrado para '{res.tool_name}'. Chaves esperadas: {possible_keys}. Chaves presentes: {list(res.tool_input.keys())}\")\n",
    "        \n",
    "        # Cria a resposta do agente com a ferramenta 'dsa_tool_resposta_final'\n",
    "        agent_res = DSAAgent(\n",
    "            tool_name = res.tool_name,\n",
    "            tool_input = {'text': tool_input},\n",
    "            tool_output = str(dic_tools[res.tool_name].invoke(tool_input))\n",
    "        )\n",
    "    else:\n",
    "        # Para outras ferramentas, assume-se que o parâmetro é 'q'\n",
    "        possible_keys = ['q', 'texto de entrada', 'text', 'texto']\n",
    "        tool_input = None\n",
    "        for key in possible_keys:\n",
    "            if key in res.tool_input:\n",
    "                tool_input = res.tool_input[key]\n",
    "                break\n",
    "        \n",
    "        # Validação de existência do parâmetro necessário\n",
    "        if not tool_input:\n",
    "            raise ValueError(f\"Parâmetro necessário não encontrado para '{res.tool_name}'. Chaves esperadas: {possible_keys}. Chaves presentes: {list(res.tool_input.keys())}\")\n",
    "        \n",
    "        # Cria a resposta do agente com outras ferramentas (não dsa_tool_resposta_final)\n",
    "        agent_res = DSAAgent(\n",
    "            tool_name = res.tool_name,\n",
    "            tool_input = {'q': tool_input},\n",
    "            tool_output = str(dic_tools[res.tool_name].invoke(tool_input))\n",
    "        )\n",
    "\n",
    "    # Retorna o resultado final caso seja 'dsa_tool_resposta_final', caso contrário retorna para continuar processamento\n",
    "    return {\"output\": agent_res} if res.tool_name == \"dsa_tool_resposta_final\" else {\"lst_res\": [agent_res]}"
   ]
  },
  {
   "cell_type": "code",
   "execution_count": 31,
   "id": "87c17f73-7296-44fb-ad88-b702d82736d9",
   "metadata": {},
   "outputs": [
    {
     "name": "stdout",
     "output_type": "stream",
     "text": [
      "--- Agente Node Tool ---\n",
      "dsa_tool_busca(input = {'q': 'eleição presidencial EUA 2024 resultado'})\n"
     ]
    },
    {
     "data": {
      "text/plain": [
       "{'lst_res': [DSAAgent(tool_name='dsa_tool_busca', tool_input={'q': 'eleição presidencial EUA 2024 resultado'}, tool_output='Eleitores dos EUA foram às urnas na terça-feira (5/11) e elegeram Donald Trump como o novo presidente e sucessor do democrata Joe Biden no comando da Casa Branca (acompanhe ao vivo as notícias ... View live election results from the 2024 presidential race as Kamala Harris and Donald Trump face off. See the map of votes by state as results are tallied. Consulte aqui os resultados das eleições dos Estados Unidos em tempo real. A informação é fornecida pela CNN Internacional para as votações para Presidente, Senado e Câmara dos Representantes. ... a história de ultraviolência do novo número 2 dos EUA 20 jan, 10:00 Um breve comunicado anuncia que só um dos Obamas é que vai à posse ... Hoje, 5 de novembro de 2024, os Estados Unidos realizam suas eleições presidenciais. Acompanhe a contagem de votos em tempo real. GERADO EM: 06/11/2024 - 07:12 Trump lidera eleições nos EUA, disputa acirrada em estados-chave. Trump lidera eleições nos EUA ao vencer Pensilvânia e Alasca, ficando perto dos 270 delegados ...')]}"
      ]
     },
     "execution_count": 31,
     "metadata": {},
     "output_type": "execute_result"
    }
   ],
   "source": [
    "# Testando\n",
    "dsa_agente_node_tool(state)"
   ]
  },
  {
   "cell_type": "markdown",
   "id": "39f9becb-0dfd-436d-a253-e91a1cbe59c4",
   "metadata": {},
   "source": [
    "### Edges (Arestas) Condicionais\n",
    "\n",
    "As edges condicionais determinam dinamicamente qual será o próximo nó (node) a ser executado no fluxo, com base no estado atual. Elas permitem que o grafo siga caminhos diferentes dependendo da lógica definida."
   ]
  },
  {
   "cell_type": "code",
   "execution_count": 32,
   "id": "c2b061d1-7977-4ffd-bdc4-7f6b02532b9c",
   "metadata": {},
   "outputs": [],
   "source": [
    "# Função para determinar os próximos nodes com base nas condições atuais do estado\n",
    "def dsa_edges_condicionais(state):\n",
    "    \n",
    "    # Indica início da execução das condições das edges (transições)\n",
    "    print(\"--- Edges Condicionais ---\")\n",
    "    \n",
    "    # Obtém a última resposta do agente armazenada no estado\n",
    "    last_res = state[\"lst_res\"][-1]\n",
    "    \n",
    "    # Decide qual é o próximo node com base na ferramenta usada\n",
    "    next_node = last_res.tool_name if isinstance(state[\"lst_res\"], list) else \"dsa_tool_resposta_final\"\n",
    "    \n",
    "    # Exibe qual será o próximo node\n",
    "    print(\"Próximo Node:\", next_node)\n",
    "    \n",
    "    # Retorna o próximo node que deve ser executado\n",
    "    return next_node"
   ]
  },
  {
   "cell_type": "code",
   "execution_count": 33,
   "id": "590b88be-1153-4214-b7a0-f21a94714190",
   "metadata": {},
   "outputs": [
    {
     "name": "stdout",
     "output_type": "stream",
     "text": [
      "--- Edges Condicionais ---\n",
      "Próximo Node: dsa_tool_busca\n"
     ]
    },
    {
     "data": {
      "text/plain": [
       "'dsa_tool_busca'"
      ]
     },
     "execution_count": 33,
     "metadata": {},
     "output_type": "execute_result"
    }
   ],
   "source": [
    "# Testando\n",
    "dsa_edges_condicionais(state)"
   ]
  },
  {
   "cell_type": "markdown",
   "id": "5c4ccb8d-ba13-42b2-8d53-12ff2fa75178",
   "metadata": {},
   "source": [
    "## Criando e Visualizando o Grafo"
   ]
  },
  {
   "cell_type": "code",
   "execution_count": 34,
   "id": "fda90120-9fbb-4dfa-8d5f-0ec7175ecbf2",
   "metadata": {},
   "outputs": [],
   "source": [
    "# Inicializa o grafo de estados usando a classe State\n",
    "workflow = StateGraph(State)\n",
    "\n",
    "# Adiciona o node principal do agente ao workflow\n",
    "workflow.add_node(node = \"AgenteDSA\", action = dsa_agente_node)\n",
    "\n",
    "# Define o ponto de entrada inicial do workflow \n",
    "workflow.set_entry_point(key = \"AgenteDSA\")\n",
    "\n",
    "# Adiciona os nodes especializados das ferramentas disponíveis ao workflow\n",
    "for k in dic_tools.keys():\n",
    "    workflow.add_node(node = k, action = dsa_agente_node_tool)\n",
    "\n",
    "# Adiciona edges condicionais partindo do node \"AgenteDSA\"\n",
    "workflow.add_conditional_edges(source = \"AgenteDSA\", path = dsa_edges_condicionais)\n",
    "\n",
    "# Adiciona edges que retornam ao node \"AgenteDSA\" após execução das ferramentas, exceto a resposta final\n",
    "for k in dic_tools.keys():\n",
    "    if k != \"dsa_tool_resposta_final\":\n",
    "        workflow.add_edge(start_key = k, end_key = \"AgenteDSA\")\n",
    "\n",
    "# Define uma edge final que termina o workflow após execução da ferramenta 'dsa_tool_resposta_final'\n",
    "workflow.add_edge(start_key = \"dsa_tool_resposta_final\", end_key = END)\n",
    "\n",
    "# Compila o workflow completo para execução\n",
    "g = workflow.compile()"
   ]
  },
  {
   "cell_type": "code",
   "execution_count": 35,
   "id": "7e432802-6a73-4e65-acbe-7a84929e5851",
   "metadata": {},
   "outputs": [
    {
     "data": {
      "image/png": "[encoded data removed]",
      "text/plain": [
       "<IPython.core.display.Image object>"
      ]
     },
     "metadata": {},
     "output_type": "display_data"
    }
   ],
   "source": [
    "# Visualizando o workflow\n",
    "display(Image(g.get_graph().draw_mermaid_png(draw_method=MermaidDrawMethod.API)))"
   ]
  },
  {
   "cell_type": "markdown",
   "id": "ec37adcd-e24d-4a15-9bdc-5402eda164cf",
   "metadata": {},
   "source": [
    "<!-- Projeto Desenvolvido na Data Science Academy - www.datascienceacademy.com.br -->\n",
    "### Executando o Workflow Com 1 Único Agente"
   ]
  },
  {
   "cell_type": "code",
   "execution_count": 36,
   "id": "aff0fe04-9a56-4211-bfc9-a32deeb73817",
   "metadata": {},
   "outputs": [],
   "source": [
    "# Estado inicial\n",
    "initial_state = {'user_q':q,\n",
    "                 'chat_history':chat_history, \n",
    "                 'lst_res':[],\n",
    "                 'output':{} }"
   ]
  },
  {
   "cell_type": "code",
   "execution_count": 37,
   "id": "ee71ffc8-4b66-4099-a436-450fe5e70745",
   "metadata": {},
   "outputs": [
    {
     "name": "stdout",
     "output_type": "stream",
     "text": [
      "--- Agente Node ---\n",
      "tool_name='dsa_tool_busca' tool_input={'q': 'eleição presidencial EUA 2024'} tool_output=None\n",
      "--- Edges Condicionais ---\n",
      "Próximo Node: dsa_tool_busca\n",
      "--- Agente Node Tool ---\n",
      "dsa_tool_busca(input = {'q': 'eleição presidencial EUA 2024'})\n",
      "--- Agente Node ---\n",
      "tool_name='dsa_tool_resposta_final' tool_input={'texto de entrada': 'Kamala Harris foi eleita Presidente dos EUA em 2024, segundo os resultados das eleições presidenciais nos Estados Unidos em 5 de novembro. A informação foi fornecida pela imprensa e não há um órgão central que centralize a apuraÇão, como o Tribunal Superior Eleitoral (TSE) no Brasil. A fonte da informação é um artigo de notícias publicado no dia 5 de novembro de 2024.', 'fonte': 'Imprensa'} tool_output=None\n",
      "--- Edges Condicionais ---\n",
      "Próximo Node: dsa_tool_resposta_final\n",
      "--- Agente Node Tool ---\n",
      "dsa_tool_resposta_final(input = {'texto de entrada': 'Kamala Harris foi eleita Presidente dos EUA em 2024, segundo os resultados das eleições presidenciais nos Estados Unidos em 5 de novembro. A informação foi fornecida pela imprensa e não há um órgão central que centralize a apuraÇão, como o Tribunal Superior Eleitoral (TSE) no Brasil. A fonte da informação é um artigo de notícias publicado no dia 5 de novembro de 2024.', 'fonte': 'Imprensa'})\n"
     ]
    }
   ],
   "source": [
    "# Testando\n",
    "out = g.invoke(input = initial_state)\n",
    "agent_out = out['output'].tool_output"
   ]
  },
  {
   "cell_type": "code",
   "execution_count": 38,
   "id": "e4fd0468-d520-4226-8657-ba8b9c698749",
   "metadata": {},
   "outputs": [
    {
     "name": "stdout",
     "output_type": "stream",
     "text": [
      "Resposta do Agente no Estado Inicial:\n"
     ]
    },
    {
     "data": {
      "text/plain": [
       "'Kamala Harris foi eleita Presidente dos EUA em 2024, segundo os resultados das eleições presidenciais nos Estados Unidos em 5 de novembro. A informação foi fornecida pela imprensa e não há um órgão central que centralize a apuraÇão, como o Tribunal Superior Eleitoral (TSE) no Brasil. A fonte da informação é um artigo de notícias publicado no dia 5 de novembro de 2024.'"
      ]
     },
     "execution_count": 38,
     "metadata": {},
     "output_type": "execute_result"
    }
   ],
   "source": [
    "print(\"Resposta do Agente no Estado Inicial:\")\n",
    "agent_out"
   ]
  },
  {
   "cell_type": "code",
   "execution_count": 39,
   "id": "94a5e889-ebff-4112-a05b-e86f1fe2b307",
   "metadata": {},
   "outputs": [
    {
     "name": "stdout",
     "output_type": "stream",
     "text": [
      "--- Agente Node ---\n",
      "tool_name='dsa_tool_busca' tool_input={'q': 'Presidente dos EUA eleito em 2024'} tool_output=None\n",
      "--- Edges Condicionais ---\n",
      "Próximo Node: dsa_tool_busca\n",
      "--- Passo 0 ---\n",
      "{'AgenteDSA': {'lst_res': [DSAAgent(tool_name='dsa_tool_busca', tool_input={'q': 'Presidente dos EUA eleito em 2024'}, tool_output=None)]}}\n",
      "--- Agente Node Tool ---\n",
      "dsa_tool_busca(input = {'q': 'Presidente dos EUA eleito em 2024'})\n",
      "--- Passo 1 ---\n",
      "{'dsa_tool_busca': {'lst_res': [DSAAgent(tool_name='dsa_tool_busca', tool_input={'q': 'Presidente dos EUA eleito em 2024'}, tool_output='Eleitores dos EUA foram às urnas na terça-feira (5/11) e elegeram Donald Trump como o novo presidente e sucessor do democrata Joe Biden no comando da Casa Branca (acompanhe ao vivo as notícias ... Trump é eleito presidente dos EUA, aponta projeção da AP ... 06/11/2024 07h35 Atualizado 11/11/2024 . ... que o alçou à fama antes de se tornar presidente dos EUA, em 2017. View live election results from the 2024 presidential race as Kamala Harris and Donald Trump face off. See the map of votes by state as results are tallied. 06/11/2024 05h27 Atualizado 07/11/2024 . ... \"Parabéns @realDonaldTrump pela sua vitória e sua eleição como 47º Presidente dos EUA. Trabalharemos em nossas relações bilaterais estratégicas ... Trump é eleito presidente dos EUA: veja que Estados votaram no republicano ou em Kamala Harris ... Após a contagem de votos em cada Estado, o candidato que soma 270 delegados entre os 538 vence ...')]}}\n",
      "--- Agente Node ---\n",
      "tool_name='dsa_tool_resposta_final' tool_input={'texto de entrada': 'Donald Trump foi eleito Presidente dos EUA em 2024, conforme projeÇões da AP e resultados oficiais. Ele venceu a eleição com 270 delegados entre os 538, sendo assim o 47º Presidente dos EUA.'} tool_output=None\n",
      "--- Edges Condicionais ---\n",
      "Próximo Node: dsa_tool_resposta_final\n",
      "--- Passo 2 ---\n",
      "{'AgenteDSA': {'lst_res': [DSAAgent(tool_name='dsa_tool_resposta_final', tool_input={'texto de entrada': 'Donald Trump foi eleito Presidente dos EUA em 2024, conforme projeÇões da AP e resultados oficiais. Ele venceu a eleição com 270 delegados entre os 538, sendo assim o 47º Presidente dos EUA.'}, tool_output=None)]}}\n",
      "--- Agente Node Tool ---\n",
      "dsa_tool_resposta_final(input = {'texto de entrada': 'Donald Trump foi eleito Presidente dos EUA em 2024, conforme projeÇões da AP e resultados oficiais. Ele venceu a eleição com 270 delegados entre os 538, sendo assim o 47º Presidente dos EUA.'})\n",
      "--- Passo 3 ---\n",
      "{'dsa_tool_resposta_final': {'output': DSAAgent(tool_name='dsa_tool_resposta_final', tool_input={'text': 'Donald Trump foi eleito Presidente dos EUA em 2024, conforme projeÇões da AP e resultados oficiais. Ele venceu a eleição com 270 delegados entre os 538, sendo assim o 47º Presidente dos EUA.'}, tool_output='Donald Trump foi eleito Presidente dos EUA em 2024, conforme projeÇões da AP e resultados oficiais. Ele venceu a eleição com 270 delegados entre os 538, sendo assim o 47º Presidente dos EUA.')}}\n"
     ]
    }
   ],
   "source": [
    "# Loop pelos passos do workflow\n",
    "passos = g.stream(input = initial_state) \n",
    "for n, passo in enumerate(passos):\n",
    "    print(\"--- Passo\", n, \"---\")\n",
    "    print(passo)"
   ]
  },
  {
   "cell_type": "markdown",
   "id": "f9dd0326-e9ee-401e-bf11-17ce1c6c897e",
   "metadata": {},
   "source": [
    "## Configuração Multi-Agente e Human-in-the-Loop\n",
    "\n",
    "A Configuração Multi-Agente no LangGraph refere-se ao uso de vários agentes dentro de um único grafo para colaborar e resolver tarefas complexas. Cada agente pode ter um papel específico e interagir dinamicamente no fluxo do grafo.\n",
    "\n",
    "O Human-in-the-Loop (HITL) é uma abordagem onde humanos intervêm no fluxo do agente quando necessário. Isso é útil em casos que exigem supervisão, validação ou decisões que um modelo sozinho não pode tomar."
   ]
  },
  {
   "cell_type": "code",
   "execution_count": 40,
   "id": "f3ed4d0b-7c21-494d-9d35-eb247bdc0ea1",
   "metadata": {},
   "outputs": [],
   "source": [
    "@tool(\"dsa_tool_wikipedia\")\n",
    "def dsa_tool_wikipedia(q:str) -> str:\n",
    "    \"\"\"Pesquise na Wikipédia passando a entrada `q`.\n",
    "       A entrada `q` deve ser palavras-chave curtas, não um texto longo\"\"\"\n",
    "    return WikipediaQueryRun(api_wrapper = WikipediaAPIWrapper()).run(q)"
   ]
  },
  {
   "cell_type": "code",
   "execution_count": 41,
   "id": "3574221b-76e6-43d2-9990-d862e9b5214f",
   "metadata": {},
   "outputs": [],
   "source": [
    "# Incui a nova ferramenta no dicionário de ferramentas\n",
    "dic_tools = {\"dsa_tool_busca\":dsa_tool_busca,\n",
    "             \"dsa_tool_resposta_final\":dsa_tool_resposta_final,\n",
    "             \"dsa_tool_wikipedia\":dsa_tool_wikipedia}"
   ]
  },
  {
   "cell_type": "code",
   "execution_count": 42,
   "id": "e4f7be16-7638-4ade-b344-570014279177",
   "metadata": {},
   "outputs": [],
   "source": [
    "# Cria o segundo prompt\n",
    "prompt_2 = \"\"\"\n",
    "Seu objetivo é usar a `dsa_tool_wikipedia` APENAS UMA VEZ para enriquecer as informações já disponíveis.\n",
    "Observe que, ao usar uma ferramenta, você fornece o nome da ferramenta e os argumentos a serem usados no formato JSON.\n",
    "Para cada chamada, você DEVE usar APENAS uma ferramenta e o formato de resposta SEMPRE deve estar no padrão:\n",
    "```json\n",
    "{\"name\":\"<tool_name>\", \"parameters\": {\"<tool_input_key>\":<tool_input_value>}}\n",
    "```\n",
    "Primeiro você deve usar a `dsa_tool_wikipedia`, depois elaborar as informações para responder à pergunta do usuário com a ferramenta `dsa_tool_resposta_final`.\n",
    "\"\"\""
   ]
  },
  {
   "cell_type": "code",
   "execution_count": 43,
   "id": "cc985b46-f11e-46c8-837d-4613bf83eb71",
   "metadata": {},
   "outputs": [],
   "source": [
    "# Função para execução do segundo node do agente no fluxo de trabalho\n",
    "def dsa_agente_node_2(state):\n",
    "    \n",
    "    # Indica início da execução do segundo node do agente\n",
    "    print(\"--- Agente Node 2 ---\")\n",
    "    \n",
    "    # Executa o agente com um novo prompt (prompt_2) e um conjunto específico de ferramentas\n",
    "    agent_res = dsa_executa_agente(\n",
    "        prompt = prompt_2,\n",
    "        dic_tools = {k: v for k, v in dic_tools.items() if k in [\"dsa_tool_wikipedia\", \"dsa_tool_resposta_final\"]},\n",
    "        user_q = state[\"output\"].tool_output,  # Utiliza o resultado do node anterior como entrada\n",
    "        chat_history = state[\"chat_history\"],\n",
    "        lst_res = state[\"lst_res\"]\n",
    "    )\n",
    "    \n",
    "    # Exibe o resultado obtido do agente\n",
    "    print(agent_res)\n",
    "    \n",
    "    # Retorna a nova resposta do agente no formato esperado pelo fluxo\n",
    "    return {\"lst_res\": [agent_res]}"
   ]
  },
  {
   "cell_type": "code",
   "execution_count": 44,
   "id": "b1bf55a3-0556-4f3c-8ff6-5e5ebcaaeeb8",
   "metadata": {},
   "outputs": [],
   "source": [
    "# Node aguardando interação humana (sem implementação automática)\n",
    "def dsa_human_node(state):\n",
    "    pass"
   ]
  },
  {
   "cell_type": "code",
   "execution_count": 45,
   "id": "e3b0af1e-21b4-47f6-ae0c-7bd4d037c041",
   "metadata": {},
   "outputs": [],
   "source": [
    "# Edges condicionais para interação humana (tomada de decisão manual)\n",
    "def dsa_human_edges(state):\n",
    "    \n",
    "    # Indica início da interação com o usuário\n",
    "    print(\"--- Humano ---\")\n",
    "    \n",
    "    # Solicita feedback humano para decidir se deve continuar ou parar o workflow\n",
    "    user_feedback = input(\"Devo continuar? [s/n] --> \")\n",
    "    \n",
    "    # Decide o próximo node com base na resposta do usuário ('AgenteDSA2' ou fim do fluxo)\n",
    "    next_node = \"AgenteDSA2\" if user_feedback.lower()[0] == \"s\" else END\n",
    "    \n",
    "    # Exibe qual será o próximo node baseado na decisão do usuário\n",
    "    print(\"Próximo Node:\", next_node)\n",
    "    \n",
    "    # Retorna o próximo node que será executado\n",
    "    return next_node"
   ]
  },
  {
   "cell_type": "code",
   "execution_count": 46,
   "id": "ff1d0777-7b2d-4ae1-ae82-0854b82e2e0b",
   "metadata": {},
   "outputs": [
    {
     "name": "stdout",
     "output_type": "stream",
     "text": [
      "--- Humano ---\n"
     ]
    },
    {
     "name": "stdin",
     "output_type": "stream",
     "text": [
      "Devo continuar? [s/n] -->  s\n"
     ]
    },
    {
     "name": "stdout",
     "output_type": "stream",
     "text": [
      "Próximo Node: AgenteDSA2\n"
     ]
    },
    {
     "data": {
      "text/plain": [
       "'AgenteDSA2'"
      ]
     },
     "execution_count": 46,
     "metadata": {},
     "output_type": "execute_result"
    }
   ],
   "source": [
    "# Testando\n",
    "dsa_human_edges(state)"
   ]
  },
  {
   "cell_type": "markdown",
   "id": "dabcfcfe-4078-430f-ad3b-67c4608156db",
   "metadata": {},
   "source": [
    "Vamos recriar o grafo."
   ]
  },
  {
   "cell_type": "code",
   "execution_count": 47,
   "id": "ebe5ec7f-cc79-4f1e-80e3-4486edb8c2b7",
   "metadata": {},
   "outputs": [],
   "source": [
    "# Inicializando o grafo de estados do workflow\n",
    "workflow = StateGraph(State)\n",
    "\n",
    "########################## Agente 1 ##########################\n",
    "\n",
    "# Adiciona o primeiro node do agente ao workflow\n",
    "workflow.add_node(node = \"AgenteDSA1\", action = dsa_agente_node) \n",
    "\n",
    "# Define o ponto de entrada inicial do workflow como \"AgenteDSA1\"\n",
    "workflow.set_entry_point(key = \"AgenteDSA1\") \n",
    "\n",
    "# Adiciona nodes específicos das ferramentas ao workflow\n",
    "workflow.add_node(node = \"dsa_tool_busca\", action = dsa_agente_node_tool)\n",
    "workflow.add_node(node = \"dsa_tool_resposta_final\", action = dsa_agente_node_tool)\n",
    "\n",
    "# Cria uma edge retornando da ferramenta 'busca' para o agente inicial\n",
    "workflow.add_edge(start_key = \"dsa_tool_busca\", end_key = \"AgenteDSA1\")\n",
    "\n",
    "# Adiciona edges condicionais partindo do node \"AgenteDSA1\"\n",
    "workflow.add_conditional_edges(source = \"AgenteDSA1\", path = dsa_edges_condicionais)\n",
    "\n",
    "########################## Humano ##########################\n",
    "\n",
    "# Adiciona um node para interação humana no workflow\n",
    "workflow.add_node(node = \"Human\", action = dsa_human_node)\n",
    "\n",
    "# Adiciona uma edge condicional após 'resposta_final', decidida pelo usuário\n",
    "workflow.add_conditional_edges(source = \"dsa_tool_resposta_final\", path = dsa_human_edges)\n",
    "\n",
    "########################## Agente 2 ##########################\n",
    "\n",
    "# Adiciona o segundo node do agente ao workflow\n",
    "workflow.add_node(node = \"AgenteDSA2\", action = dsa_agente_node_2) \n",
    "\n",
    "# Adiciona o node da ferramenta 'wikipedia' ao workflow\n",
    "workflow.add_node(node = \"dsa_tool_wikipedia\", action = dsa_agente_node_tool)\n",
    "\n",
    "# Cria uma edge retornando da ferramenta 'wikipedia' para o Agente 2\n",
    "workflow.add_edge(start_key = \"dsa_tool_wikipedia\", end_key = \"AgenteDSA2\")\n",
    "\n",
    "# Adiciona edges condicionais partindo do node \"AgenteDSA2\"\n",
    "workflow.add_conditional_edges(source = \"AgenteDSA2\", path = dsa_edges_condicionais)\n",
    "\n",
    "########################## End ##########################\n",
    "\n",
    "# Compila o workflow final para execução\n",
    "g2 = workflow.compile()"
   ]
  },
  {
   "cell_type": "code",
   "execution_count": 48,
   "id": "acbc6980-14e6-4c18-9632-ef171e3ad39b",
   "metadata": {},
   "outputs": [
    {
     "data": {
      "image/png": "[encoded data removed]",
      "text/plain": [
       "<IPython.core.display.Image object>"
      ]
     },
     "metadata": {},
     "output_type": "display_data"
    }
   ],
   "source": [
    "# Plot\n",
    "display(Image(g2.get_graph().draw_mermaid_png(draw_method = MermaidDrawMethod.API)))"
   ]
  },
  {
   "cell_type": "markdown",
   "id": "9ea4f913-c4b3-4168-8675-1cdd72a5f55b",
   "metadata": {},
   "source": [
    "## Executando o Sistema Autônomo"
   ]
  },
  {
   "cell_type": "code",
   "execution_count": 49,
   "id": "3ce22a76-c688-43ff-bc65-b26badf0b63a",
   "metadata": {},
   "outputs": [
    {
     "data": {
      "text/plain": [
       "{'user_q': 'Quem foi eleito Presidente dos EUA em 2024?',\n",
       " 'chat_history': [{'role': 'user', 'content': 'Olá, tudo bem?'},\n",
       "  {'role': 'assistant', 'content': 'Estou bem, obrigado!'},\n",
       "  {'role': 'user', 'content': 'Eu tenho uma pergunta'},\n",
       "  {'role': 'assistant', 'content': 'Sim, o que você gostaria de saber?'}],\n",
       " 'lst_res': [],\n",
       " 'output': {}}"
      ]
     },
     "execution_count": 49,
     "metadata": {},
     "output_type": "execute_result"
    }
   ],
   "source": [
    "# Estado inicial\n",
    "initial_state"
   ]
  },
  {
   "cell_type": "code",
   "execution_count": 50,
   "id": "6b609215-ddb0-4696-a7b8-b7956d79b2ff",
   "metadata": {},
   "outputs": [
    {
     "name": "stdout",
     "output_type": "stream",
     "text": [
      "--- Agente Node ---\n",
      "tool_name='dsa_tool_busca' tool_input={'q': 'eleição presidencial EUA 2024'} tool_output=None\n",
      "--- Edges Condicionais ---\n",
      "Próximo Node: dsa_tool_busca\n",
      "--- Agente Node Tool ---\n",
      "dsa_tool_busca(input = {'q': 'eleição presidencial EUA 2024'})\n",
      "--- Agente Node ---\n",
      "tool_name='dsa_tool_resposta_final' tool_input={'texto de entrada': 'Donald Trump foi eleito Presidente dos EUA em 2024, derrotando Kamala Harris, vice-presidente do atual presidente Joe Biden. A eleição ocorreu na tería-feira (5/11), e Donald Trump conquistou a presidência da Casa Branca.', 'fonte': 'O Globo'} tool_output=None\n",
      "--- Edges Condicionais ---\n",
      "Próximo Node: dsa_tool_resposta_final\n",
      "--- Agente Node Tool ---\n",
      "dsa_tool_resposta_final(input = {'texto de entrada': 'Donald Trump foi eleito Presidente dos EUA em 2024, derrotando Kamala Harris, vice-presidente do atual presidente Joe Biden. A eleição ocorreu na tería-feira (5/11), e Donald Trump conquistou a presidência da Casa Branca.', 'fonte': 'O Globo'})\n",
      "--- Humano ---\n"
     ]
    },
    {
     "name": "stdin",
     "output_type": "stream",
     "text": [
      "Devo continuar? [s/n] -->  s\n"
     ]
    },
    {
     "name": "stdout",
     "output_type": "stream",
     "text": [
      "Próximo Node: AgenteDSA2\n",
      "--- Agente Node 2 ---\n",
      "tool_name='dsa_tool_wikipedia' tool_input={'q': 'eleição 2024 nos EUA'} tool_output=None\n",
      "--- Edges Condicionais ---\n",
      "Próximo Node: dsa_tool_wikipedia\n",
      "--- Agente Node Tool ---\n",
      "dsa_tool_wikipedia(input = {'q': 'eleição 2024 nos EUA'})\n",
      "--- Agente Node 2 ---\n",
      "tool_name='dsa_tool_resposta_final' tool_input={'texto de entrada': 'Donald Trump foi eleito Presidente dos EUA em 2024, derrotando Kamala Harris, vice-presidente do atual presidente Joe Biden. A eleição ocorreu na tería-feira (5/11), e Donald Trump conquistou a presidência da Casa Branca.', 'fonte': 'Informações disponibilizadas pela Wikipídia e outras fontes confiáveis'} tool_output=None\n",
      "--- Edges Condicionais ---\n",
      "Próximo Node: dsa_tool_resposta_final\n",
      "--- Agente Node Tool ---\n",
      "dsa_tool_resposta_final(input = {'texto de entrada': 'Donald Trump foi eleito Presidente dos EUA em 2024, derrotando Kamala Harris, vice-presidente do atual presidente Joe Biden. A eleição ocorreu na tería-feira (5/11), e Donald Trump conquistou a presidência da Casa Branca.', 'fonte': 'Informações disponibilizadas pela Wikipídia e outras fontes confiáveis'})\n",
      "--- Humano ---\n"
     ]
    },
    {
     "name": "stdin",
     "output_type": "stream",
     "text": [
      "Devo continuar? [s/n] -->  n\n"
     ]
    },
    {
     "name": "stdout",
     "output_type": "stream",
     "text": [
      "Próximo Node: __end__\n"
     ]
    }
   ],
   "source": [
    "# Executa o workflow\n",
    "out_2 = g2.invoke(input = initial_state)\n",
    "agent_out_2 = out_2['output'].tool_output"
   ]
  },
  {
   "cell_type": "code",
   "execution_count": 51,
   "id": "0a2baea4-3cb0-415d-855d-f7fe9fb9f8a3",
   "metadata": {},
   "outputs": [
    {
     "name": "stdout",
     "output_type": "stream",
     "text": [
      "Obrigado Por Usar Este Time de Agentes DSA. Este é o Resultado da Sua Consulta:\n"
     ]
    },
    {
     "data": {
      "text/plain": [
       "'Donald Trump foi eleito Presidente dos EUA em 2024, derrotando Kamala Harris, vice-presidente do atual presidente Joe Biden. A eleição ocorreu na tería-feira (5/11), e Donald Trump conquistou a presidência da Casa Branca.'"
      ]
     },
     "execution_count": 51,
     "metadata": {},
     "output_type": "execute_result"
    }
   ],
   "source": [
    "print(\"Obrigado Por Usar Este Time de Agentes DSA. Este é o Resultado da Sua Consulta:\")\n",
    "agent_out_2"
   ]
  },
  {
   "cell_type": "markdown",
   "id": "5a3a5a52-8740-4fcf-8c09-baf86bf8b134",
   "metadata": {},
   "source": [
    "# Fim"
   ]
  }
 ],
 "metadata": {
  "kernelspec": {
   "display_name": "Python 3 (ipykernel)",
   "language": "python",
   "name": "python3"
  },
  "language_info": {
   "codemirror_mode": {
    "name": "ipython",
    "version": 3
   },
   "file_extension": ".py",
   "mimetype": "text/x-python",
   "name": "python",
   "nbconvert_exporter": "python",
   "pygments_lexer": "ipython3",
   "version": "3.12.9"
  }
 },
 "nbformat": 4,
 "nbformat_minor": 5
}
